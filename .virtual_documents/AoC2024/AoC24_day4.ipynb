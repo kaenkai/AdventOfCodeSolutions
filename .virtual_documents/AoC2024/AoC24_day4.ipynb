


# @author: kaenkai

import re
import numpy as np


TestPuzzle = \
'''....XXMAS.
.SAMXMS...
...S..A...
..A.A.MS.X
XMASAMX.MM
X.....XA.A
S.S.S.S.SS
.A.A.A.A.A
..M.M.M.MM
.X.X.XMASX'''

def countXMAS(puzzle: str) -> int:
    if re.search(r'X.*?M.*?A.*?S', puzzle) is None:
        return 0
    justXMAS = ''
    for i in puzzle:
        if i == 'X' and 'M' not in justXMAS:
            justXMAS += i
        if i == 'M' and 'X' in justXMAS and 'A' not in justXMAS:
            justXMAS += i
        if i == 'A' and 'M' in justXMAS and 'S' not in justXMAS:
            justXMAS += i
        if i == 'S' and 'A' in justXMAS:
            justXMAS += i
    numXMAS = 1
    for i in 'XMAS':
        numXMAS *= justXMAS.count(i)
    return numXMAS


def wordSearch(puzzle: str, word: str) -> int:
    """ Function searching a puzzle for a keyword
    Args:
        puzzle (str): input puzzle
        word (str): keyword to search for
    Returns:
        total number of matches (int)
    """
    puzzle = puzzle.split('\n')
    # creating trasposed puzzle for vertical matches
    puzzleT = [''.join(i) for i in list(zip(*puzzle))]
    # findXMAS = lambda x: len(re.findall(r'(?=(X.*?M.*?A.*?S))', x, re.I))
    # findSAMX = lambda x: len(re.findall(r'(?=(X.*?M.*?A.*?S))', x[::-1], re.I))
    n = len(puzzle)

    hMatches = 0
    vMatches = 0
    for i in puzzle:
        hMatches += countXMAS(i)+countXMAS(i[::-1])
        print(i, countXMAS(i)+countXMAS(i[::-1]))
    for i in puzzleT:
        vMatches += countXMAS(i)+countXMAS(i[::-1])
    dMatches = 0
    for i in range(1, n-3):
        dUpper = ''.join([str(puzzle[j][j+i]) for j in range(n-i)])
        dLower = ''.join([str(puzzle[j+i][j]) for j in range(n-i)])
        dMatches += countXMAS(dUpper)+countXMAS(dUpper[::-1]) + \
                    countXMAS(dLower)+countXMAS(dLower[::-1])
    # Anti-diagonals
    # for i in range(1, n-3):
    #     dUpper = ''.join([str(puzzle[j][n-j-i-1]) for j in range(n-i)])
    #     dLower = ''.join([str(puzzle[n-j+i-1][j]) for j in range(i, n)])
    #     dMatches += findXMAS(dUpper)+findSAMX(dUpper) + \
    #                 findXMAS(dLower)+findSAMX(dLower) 
    # Main diagonal
    dMatches += countXMAS(''.join([str(puzzle[j][j]) for j in range(n)])) +\
                countXMAS(''.join([str(puzzle[j][j]) for j in range(n)])[::-1])
        
    print('XMAS matches:')
    print(f'Horizontally: {hMatches}, vertically: {vMatches}, diagonally: {dMatches}')
    print(f'TOTAL: {hMatches+vMatches+dMatches}')


def main(inputFile: str) -> int:
    """Day 4 (part 1) solution.

    Args:
        inputFile (str): input file name
    """
    print('Running main function ...')
    memorySum = 0
    try:
        with open(inputFile, 'r') as fin:
            puzzle = fin.read()
    except FileNotFoundError:
        puzzle = TestPuzzle
    numXMAS = wordSearch(puzzle, 'XMAS')
    # print(findNumbers('xmul(2,4)%&mul[3,7]!@^do_not_mul(5,5)+mul(32,64]then(mul(11,8)mul(8,5))'))


if __name__ == '__main__':
    main('test_day4.txt')
    # 1067 <-- too low
    # 1578 <-- too low  
    # 26941 <-- too high
    # 141411



