


# @author: kaenkai

import re
import numpy as np


TestPuzzle = \
'''....XXMAS.
.SAMXMS...
...S..A...
..A.A.MS.X
XMASAMX.MM
X.....XA.A
S.S.S.S.SS
.A.A.A.A.A
..M.M.M.MM
.X.X.XMASX'''

# TestPuzzle = '..X..XXMMAMS.'


# def countXMAS(puzzle: str) -> int:
#     if re.search(r'X.*?M.*?A.*?S', puzzle) is None:
#         return 0
#     n = len(puzzle)
#     justXMAS = ''
#     for i in range(n):
#         rest = puzzle[i:]
#         letter = puzzle[i]
#         if letter == 'X' and 'M' in rest and 'A' in rest and 'S' in rest:
#             justXMAS += letter
#         if letter == 'M' and 'X' in justXMAS and 'A' in rest and 'S' in rest:
#             justXMAS += letter
#         if letter == 'A' and 'M' in justXMAS  and 'S' in rest:
#             justXMAS += letter
#         if letter == 'S' and 'A' in justXMAS:
#             justXMAS += letter
#     numXMAS = 1
#     for i in 'XMAS':
#         numXMAS *= justXMAS.count(i)
#     return numXMAS


def countXMAS(puzzle: str) -> int:
    if re.search(r'X.*?M.*?A.*?S', puzzle) is None:
        return 0
    n = len(puzzle)
    validate = lambda x, m, a, s: \
        puzzle[x] == 'X' and puzzle[m] == 'M' and \
        puzzle[a] == 'A' and puzzle[s] == 'S' and \
        x < m < a < s
                                          
    nXMAS = 0
    for x in range(n-3):
        for m in range(1, n-2):
            for a in range(2, n-1):
                for s in range(3, n):
                    if validate(x, m, a, s):
                        nXMAS += 1
    return nXMAS


def wordSearch(puzzle: str, word: str) -> int:
    """ Function searching a puzzle for a keyword
    Args:
        puzzle (str): input puzzle
        word (str): keyword to search for
    Returns:
        total number of matches (int)
    """
    puzzle = puzzle.split('\n')
    # creating trasposed puzzle for vertical matches
    puzzleT = [''.join(i) for i in list(zip(*puzzle))]
    # findXMAS = lambda x: len(re.findall(r'(?=(X.*?M.*?A.*?S))', x, re.I))
    # findSAMX = lambda x: len(re.findall(r'(?=(X.*?M.*?A.*?S))', x[::-1], re.I))
    n = len(puzzle)

    hMatches = 0
    vMatches = 0
    # Horizontal
    for i in puzzle:
        hMatches += countXMAS(i)+countXMAS(i[::-1])
        print(i, countXMAS(i)+countXMAS(i[::-1]))
    # Vertical
    for i in puzzleT:
        vMatches += countXMAS(i)+countXMAS(i[::-1])
    # Diagonals
    dMatches = 0
    for i in range(1, n-3):
        dUpper = ''.join([str(puzzle[j][j+i]) for j in range(n-i)])
        dLower = ''.join([str(puzzle[j+i][j]) for j in range(n-i)])
        dMatches += countXMAS(dUpper)+countXMAS(dUpper[::-1]) + \
                    countXMAS(dLower)+countXMAS(dLower[::-1])
        # print(dUpper, countXMAS(dUpper)+countXMAS(dUpper[::-1]))
        # print(dLower, countXMAS(dLower)+countXMAS(dLower[::-1]))
    # Anti-diagonals
    # for i in range(1, n-3):
    #     dUpper = ''.join([str(puzzle[j][n-j-i-1]) for j in range(n-i)])
    #     dLower = ''.join([str(puzzle[n-j+i-1][j]) for j in range(i, n)])
    #     dMatches += countXMAS(dUpper)+countXMAS(dUpper[::-1]) + \
    #                 countXMAS(dLower)+countXMAS(dLower[::-1]) 
    # Main diagonal
    diag = ''.join([str(puzzle[j][j]) for j in range(n)])
    dMatches += countXMAS(diag) + countXMAS(diag[::-1])
    # print(diag, countXMAS(diag) + countXMAS(diag[::-1]))
        
    print('\nXMAS matches:')
    print(f'Horizontally: {hMatches}, vertically: {vMatches}, diagonally: {dMatches}')
    print(f'TOTAL: {hMatches+vMatches+dMatches}')


def main(inputFile: str) -> int:
    """Day 4 (part 1) solution.

    Args:
        inputFile (str): input file name
    """
    print('Running main function ...')
    memorySum = 0
    try:
        with open(inputFile, 'r') as fin:
            puzzle = fin.read()
    except FileNotFoundError:
        puzzle = TestPuzzle
    numXMAS = wordSearch(puzzle, 'XMAS')
    # print(findNumbers('xmul(2,4)%&mul[3,7]!@^do_not_mul(5,5)+mul(32,64]then(mul(11,8)mul(8,5))'))


if __name__ == '__main__':
    main('test_day4.txt')
    # 1067 <-- too low
    # 1578 <-- too low  
    # 26941 <-- too high
    # 141411
    '''
    ....XXMAS. 2
    .SAMXMS... 1
    ...S..A... 0
    ..A.A.MS.X 0
    XMASAMX.MM 2
    X.....XA.A 0
    S.S.S.S.SS 0
    .A.A.A.A.A 0
    ..M.M.M.MM 0
    .X.X.XMASX 3
    '''



