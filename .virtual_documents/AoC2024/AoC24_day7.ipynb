


# @author: kaenkai

import re
# import typing


TestEqns = '''
190: 10 19
3267: 81 40 27
83: 17 5
156: 15 6
7290: 6 8 6 15
161011: 16 10 13
192: 17 8 14
21037: 9 7 18 13
292: 11 6 16 20
'''[1:-1]


def verifyEq(eqn: str) -> bool:
    """ Verifies equation
    Args:
        eqn (str): equation
    Return:
        (bool): is a valid equation or not
    """
    r, *n = eqn
    opCount = len(n)-1
    for i in range(int('1'*opCount, 2)+1):
        # Count operators = count numbers - 1; 0 --> +, 1 --> *
        op = f'{i:0{opCount}b}'
        result = n[0]
        for ii in range(len(op)):
            if op[ii] == '0':
                result += n[ii+1]
            elif op[ii] == '1':
                result *= n[ii+1]
        if result == r:
            return True
    return False


def main(inputFile: str) -> int:
    """Main function

    Args:
        inputFile (str): input file name
    """
    print('Running main function ...')
    
    try:
        with open(inputFile, 'r') as fin:
            eqns = fin.read()[:-1]
    except FileNotFoundError as err:
        print(err)
        print('Using test data.')
        eqns = TestEqns
    eqns = [[int(n) for n in re.findall(r'[0-9]+', e)] for e in eqns.split('\n')]
    calibration = 0
    for eqn in eqns:
        calibration += eqn[0] if verifyEq(eqn) else 0
    print(f'\nResult: {calibration:_d}')


if __name__ == '__main__':
    main('input_day7.txt')
    # 12_839_601_725_877






# @author: kaenkai

import re


TestEqns = '''
190: 10 19
3267: 81 40 27
83: 17 5
156: 15 6
7290: 6 8 6 15
161011: 16 10 13
192: 17 8 14
21037: 9 7 18 13
292: 11 6 16 20
'''[1:-1]

# TestEqns = '7290: 6 8 6 15'


def ternary(n: int) -> str:
    """Coverts a number to ternary system
    Args:
        n (int): an integer number
    Returns:
        (str): num in ternary system
    """
    if n == 0:
        return '0'
    nums: list[str] = []
    while n:
        n, r = divmod(n, 3)
        nums.append(str(r))
    return ''.join(reversed(nums))


def verifyEq(eqn: list[list[int]]) -> bool:
    """ Verifies equation
    Args:
        eqn (str): equation
    Return:
        (bool): is a valid equation or not
    """
    r, *n = eqn
    for i in range(int('2'*(len(n)-1), 3)+1):
        # Count operators = count numbers - 1;
        # 0 --> +, 1 --> *, 2 --> ||
        opMath = f'{ternary(i):0>{len(n)-1}}'
        n_ = n.copy()
        if len(opMath) == 1 and opMath[0] == '2':
            result = int(f'{n[0]}{n[1]}')
        else:
            result = n[0]
            for ii in range(len(opMath)):
                if opMath[ii] == '0':
                    result += n[ii+1]
                elif opMath[ii] == '1':
                    result *= n[ii+1]  
                elif opMath[ii] == '2':
                    result = int(f'{result}{n[ii+1]}')
        if result == r:
            return True
    return False


def main(inputFile: str) -> int:
    """Main function

    Args:
        inputFile (str): input file name
    """
    print('Running main function ...')
    
    try:
        with open(inputFile, 'r') as fin:
            eqns = fin.read()[:-1]
    except FileNotFoundError as err:
        print(err)
        print('Using test data.')
        eqns = TestEqns
    eqns = [[int(n) for n in re.findall(r'[0-9]+', e)] for e in eqns.split('\n')]
    calibration = 0
    for eqn in eqns:
        calibration += eqn[0] if verifyEq(eqn) else 0
    print(f'\nResult: {calibration:d}')


if __name__ == '__main__':
    main('input_day7.txt')
    # 149956401519484

