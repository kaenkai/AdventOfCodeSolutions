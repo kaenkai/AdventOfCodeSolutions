


# @author: kaenkai

import re
from random import randint


def generate_disk(n: int) -> str:
    """ Generates random disk
    Args:
        n (int): disk size
    Returns:
        (str): generated random disk
    """
    return ''.join([str(randint(0, 9)) for i in range(n)])


def read_disk(inputFile: str) -> str:
    """ Reads disk from file
    Args:
        inputFile (str): input file
    Returns:
        disk (str)
    Raises:
        FileNotFoundError if file not found
    """
    try:
        with open(inputFile, 'r') as fin:
            disk = fin.read()
        print(disk)
        return disk
    except FileNotFoundError as err:
        print(err)
        print('Using test data.')
        return '2333133121414131402'


def blocks(disk: str) -> list[str]:
    """ Converts disk to block representation, f.e.:
    2333133121414131402 -->
    00...111...2...333.44.5555.6666.777.888899

    Args:
        disk (str): disk in number representation
    Returns:
        disk (list[str]): disk in block representation
    """
    disk_blocks = []
    for i, size in enumerate(disk):
        if i%2 == 0:
            disk_blocks += [str(i//2)]*int(size)
        else: 
            disk_blocks += ['.']*int(size)
    return disk_blocks


def main(disk: list[str]) -> None:
    """Main function

    Args:
        disk (str): input disk
        files (list[int]): files ids
    """
    files = [(f, i) for i, f in enumerate(disk) if f != '.']
    free_space = disk.count('.')
    n = len(disk)
    # print(''.join(disk))
    for i, j in enumerate(disk):
        if j == '.':
            if n-i == free_space:
                break
            f, fi = files.pop()
            disk[i] = f
            disk[fi] = '.'
            # print(''.join(disk), f)
    checksum = 0
    for i, file_id in enumerate(disk[:-free_space]):
        checksum += i*int(file_id)
    print('Compacted disk:', ''.join(disk))
    print('Checksum:', checksum)


def test1():
    disk = blocks(read_disk(''))
    assert ''.join(disk) == '00...111...2...333.44.5555.6666.777.888899', disk
    main(disk)


def test2():
    rand_disk = generate_disk(21)
    print(rand_disk)
    disk = blocks(rand_disk)
    main(disk)


if __name__ == '__main__':
    # test1()
    disk = blocks(read_disk('input_day9.txt'))
    main(disk)
    # 6340197768906





# @author: kaenkai

import re
from random import randint


def generate_disk(n: int) -> str:
    """ Generates random disk
    Args:
        n (int): disk size
    Returns:
        (str): generated random disk
    """
    return ''.join([str(randint(0, 9)) for i in range(n)])


def read_disk(inputFile: str) -> str:
    """ Reads disk from file
    Args:
        inputFile (str): input file
    Returns:
        disk (str)
    Raises:
        FileNotFoundError if file not found
    """
    try:
        with open(inputFile, 'r') as fin:
            disk = fin.read()
        return disk
    except FileNotFoundError as err:
        print(err)
        print('Using test data.')
        return '2333133121414131402'


def blocks(disk: str) -> list[list[str, int]]:
    """ Converts disk to block representation, f.e.:
    2333133121414131402 -->
    00...111...2...333.44.5555.6666.777.888899

    Args:
        disk (str): disk in number representation
    Returns:
        disk (list[str]): disk in block representation
    """
    disk_blocks = []
    for i, size in enumerate(disk):
        if i%2 == 0:
            disk_blocks += [[str(i//2),int(size)]]
        else: 
            disk_blocks += [['.',int(size)]]
    return disk_blocks


def conv(disk: list[list[str, int]]) -> str:
    return ''.join([f*s for f, s in disk])


def compress(disk):
    for i in range(len(disk)-1, 0, -1):
        for j in range(i):
            if disk[i][0].isnumeric() and disk[j][0] == '.' and disk[j][1] > disk[i][1]:
                disk[i][0], disk[j][0] = disk[j][0], disk[i][0]
                disk.insert(j+1, ['.', disk[j][1] - disk[i][1]])
                disk[j][1] = disk[i+1][1]
                # print(conv(disk))
                return False
            if disk[i][0].isnumeric() and disk[j][0] == '.' and disk[j][1] == disk[i][1]:
                disk[i][0], disk[j][0] = disk[j][0], disk[i][0]
                # print(conv(disk))
                return False
    return True


def main(disk: list[str]) -> None:
    """Main function

    Args:
        disk (str): input disk
        files (list[int]): files ids
    """
    # print(conv(disk))
    for _ in range(10_000):
        if compress(disk):
            break
    print('Finished after:', _, 'iterations')
    checksum = 0
    for i, b in enumerate(conv(disk)):
        if b.isnumeric():
            checksum += i*int(b)
    # print('Compacted disk:', conv(disk))
    print('Checksum:', checksum)


def test1():
    disk = blocks(read_disk(''))
    main(disk)
    assert conv(disk) == '00992111777.44.333....5555.6666.....8888..', conv(disk)


def test2():
    rand_disk = generate_disk(21)
    print(rand_disk)
    disk = blocks(rand_disk)
    main(disk)


if __name__ == '__main__':
    # test2()
    disk = blocks(read_disk('input_day9.txt'))
    main(disk)
    # 89914538143 <-- too low
    # 115886589042
