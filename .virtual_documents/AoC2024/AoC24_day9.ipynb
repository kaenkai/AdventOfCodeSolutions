


# @author: kaenkai

import re
from random import randint


def generate_disk(n: int) -> str:
    return ''.join([str(randint(0, 9)) for i in range(n)])

def read_disk(inputFile: str) -> str:
    try:
        with open(inputFile, 'r') as fin:
            disk = fin.read()
        print(disk)
        return disk
    except FileNotFoundError as err:
        print(err)
        print('Using test data.')
        return '2333133121414131402'


def blocks(disk: str) -> str:
    files, spaces = disk[::2], disk[1::2]
    disk_blocks = ''
    for i in range(len(files)):
        disk_blocks += str(i)*int(files[i])
        if i < len(files)-1:
            disk_blocks += '.'*int(spaces[i])
    return disk_blocks


def main(disk: str) -> None:
    """Main function

    Args:
        inputFile (str): input file name
    """
    disk_files = re.findall(r'[0-9]', disk)
    free_space = disk.count('.')
    n = len(disk)
    # print(disk)
    while True:
        i = disk.find('.')
        if n-i == free_space:
            break
        f = disk_files.pop()
        disk = disk.replace('.', f, 1)
        disk = disk[::-1].replace(f, '.', 1)[::-1]
        # print(disk, f)
    checksum = 0
    for i, file_id in enumerate(disk.split('.', 1)[0]):
        checksum += i*int(file_id)
    print('Compacted disk:', disk)
    print('Checksum:', checksum)


def test1():
    disk = blocks(read_disk(''))
    assert disk == '00...111...2...333.44.5555.6666.777.888899'
    main(disk)


def test2():
    rand_disk = generate_disk(20)
    print(rand_disk)
    disk = blocks(rand_disk)
    main(disk)


if __name__ == '__main__':
    test1()
    # disk = blocks(read_disk('input_day9.txt'))
    # main(disk)
    # 89914538143 <-- too low

