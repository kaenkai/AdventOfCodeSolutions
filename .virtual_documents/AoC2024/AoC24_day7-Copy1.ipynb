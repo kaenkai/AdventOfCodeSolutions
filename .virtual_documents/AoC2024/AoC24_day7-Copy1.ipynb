


# @author: kaenkai

import re
# import typing


TestMap = '''
..........
.Z.....0..
..........
....a.....
..........
.....a....
..........
..........
..9.......
..........
'''[1:-1]


def main(inputFile: str) -> int:
    """Main function

    Args:
        inputFile (str): input file name
    """
    try:
        with open(inputFile, 'r') as fin:
            iMap = fin.read()[:-1]
    except FileNotFoundError as err:
        print(err)
        print('Using test data.')
        iMap = TestMap
    pattern = re.compile(r'[A-Za-z0-9]')
    antennas = ''
    for i in TestMap:
        if pattern.match(i) and i not in antennas:
            antennas += i
    print(antennas)


if __name__ == '__main__':
    main('')
    # 12_839_601_725_877

