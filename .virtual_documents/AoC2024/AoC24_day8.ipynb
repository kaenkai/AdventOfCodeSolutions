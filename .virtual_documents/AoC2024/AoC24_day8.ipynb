


# @author: kaenkai

import re
from numpy import sqrt
# import typing


# TestMap = '''
# ..........
# ..........
# ..........
# ....a.....
# ........a.
# .....a....
# ..........
# ..........
# ..........
# ..........
# '''[1:-1]

TestMap = '''
............
........0...
.....0......
.......0....
....0.......
......A.....
............
............
........A...
.........A..
............
............
'''[1:-1]


def addAntinodes(antenna_map: str, antinode_map, a: str) -> tuple[str, int]:
    antenna_map = [list(i) for i in antenna_map.split('\n')]
    antinode_map = [list(i) for i in antinode_map.split('\n')]
    n, m = len(antenna_map), len(antenna_map[0])
    a_loc = []
    for i in range(n):
        for j in range(m):
            try:
                if antenna_map[i][j] == a:
                    a_loc.append((i, j))
            except IndexError:
                print(i, j)
                print(antenna_map[:][j])
                raise IndexError
    dist = lambda x1, x2: abs(x1[0]-x2[0])+abs(x1[1]-x2[1])
    antinodes = 0
    for a1 in a_loc:
        for a2 in a_loc:
            if dist(a1, a2) >= 2:
                dx, dy = a1[0]-a2[0], a1[1]-a2[1]
                if 0 <= a1[0] + dx < n and 0 <= a1[1] + dy < m:
                    if antinode_map[a1[0]+dx][a1[1]+dy] != '#':
                        antinodes += 1
                    antinode_map[a1[0]+dx][a1[1]+dy] = '#'
    antinode_map = '\n'.join([''.join(i) for i in antinode_map])
    print(f'Number of antinodes for antenna: {a}: {antinodes}')
    return antinode_map, antinodes


def main(inputFile: str) -> int:
    """Main function

    Args:
        inputFile (str): input file name
    """
    try:
        with open(inputFile, 'r') as fin:
            iMap = fin.read()
    except FileNotFoundError as err:
        print(err)
        print('Using test data.')
        iMap = TestMap
    print(iMap)
    antinode_num = 0
    pattern = re.compile(r'[A-Za-z0-9]')
    antennas = ''
    for i in iMap:
        if pattern.match(i) and i not in antennas:
            antennas += i
    print('Exisiting antennas:', antennas)
    antiMap = iMap[:]
    for a in antennas:
        if iMap.count(a) > 1:
            antiMap, antinodes = addAntinodes(iMap, antiMap, a)
            antinode_num += antinodes
    print()
    print(antiMap)
    print(f'Antinode number: {antinode_num}')


if __name__ == '__main__':
    main('input_day8.txt')






# @author: kaenkai

import re
from numpy import sqrt
# import typing


TestMap = '''
............
........0...
.....0......
.......0....
....0.......
......A.....
............
............
........A...
.........A..
............
............
'''[1:-1]


# TestMap = '''
# T.........
# ...T......
# .T........
# ..........
# ..........
# ..........
# ..........
# ..........
# ..........
# ..........
# '''[1:-1]


def addAntinodes(antenna_map: str, antinode_map, a: str) -> tuple[str, int]:
    antenna_map = [list(i) for i in antenna_map.split('\n')]
    antinode_map = [list(i) for i in antinode_map.split('\n')]
    n, m = len(antenna_map), len(antenna_map[0])
    a_loc = []
    for i in range(n):
        for j in range(m):
            if antenna_map[i][j] == a:
                a_loc.append((i, j))
    dist = lambda x1, x2: abs(x1[0]-x2[0])+abs(x1[1]-x2[1])
    antinodes = 0
    for a1 in a_loc:
        for a2 in a_loc:
            if dist(a1, a2) >= 2:
                if antinode_map[a1[0]][a1[1]] != '#':
                    antinodes += 1
                antinode_map[a1[0]][a1[1]] = '#'
                dx, dy = a1[0]-a2[0], a1[1]-a2[1]
                while 0 <= a1[0] + dx < n and 0 <= a1[1] + dy < m:
                    if antinode_map[a1[0]+dx][a1[1]+dy] != '#':
                        antinodes += 1
                    antinode_map[a1[0]+dx][a1[1]+dy] = '#'
                    dx += a1[0]-a2[0]
                    dy += a1[1]-a2[1]
    antinode_map = '\n'.join([''.join(i) for i in antinode_map])
    print(f'Number of antinodes for antenna: {a}: {antinodes}')
    return antinode_map, antinodes


def main(inputFile: str) -> int:
    """Main function

    Args:
        inputFile (str): input file name
    """
    try:
        with open(inputFile, 'r') as fin:
            iMap = fin.read()
    except FileNotFoundError as err:
        print(err)
        print('Using test data.')
        iMap = TestMap
    print(iMap)
    antinode_num = 0
    pattern = re.compile(r'[A-Za-z0-9]')
    antennas = ''
    for i in iMap:
        if pattern.match(i) and i not in antennas:
            antennas += i
    print('Exisiting antennas:', antennas)
    antiMap = iMap[:]
    for a in antennas:
        if iMap.count(a) > 1:
            antiMap, antinodes = addAntinodes(iMap, antiMap, a)
            antinode_num += antinodes
    print()
    print(antiMap)
    print(f'Antinode number: {antinode_num}')


if __name__ == '__main__':
    main('input_day8.txt')

