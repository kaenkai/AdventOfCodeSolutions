


# @author: kaenkai

import re

def main(inputFile: str) -> int:
    """Day 5 (part 1) solution.

    Args:
        inputFile (str): input file name
    """
    print('Running main function ...')
    try:
        with open(inputFile, 'r') as fin:
            doc = fin.read()
    except FileNotFoundError as err:
        print(err)
    # Getting rules 
    rules = re.findall(r'[0-9]*\|[0-9]*', doc)
    # Getting updates
    updates = []
    for i in doc.split('\n')[::-1]:
        if i =='':
            break
        updates.append(i)
    updates = updates[::-1]
    print(updates)
    # print(findNumbers('xmul(2,4)%&mul[3,7]!@^do_not_mul(5,5)+mul(32,64]then(mul(11,8)mul(8,5))'))


if __name__ == '__main__':
    main('test_day5.txt')
