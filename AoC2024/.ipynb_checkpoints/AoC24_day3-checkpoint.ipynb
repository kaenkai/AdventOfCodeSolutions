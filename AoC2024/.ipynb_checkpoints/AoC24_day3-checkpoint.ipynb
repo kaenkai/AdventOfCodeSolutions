{
 "cells": [
  {
   "cell_type": "markdown",
   "id": "748c29bb-c0ac-4463-b0db-a3266a20fb6d",
   "metadata": {},
   "source": [
    "--- Day 3: Mull It Over ---\n",
    "\n",
    "\"Our computers are having issues, so I have no idea if we have any Chief Historians in stock! You're welcome to check the warehouse, though,\" says the mildly flustered shopkeeper at the North Pole Toboggan Rental Shop. The Historians head out to take a look.\n",
    "\n",
    "The shopkeeper turns to you. \"Any chance you can see why our computers are having issues again?\"\n",
    "\n",
    "The computer appears to be trying to run a program, but its memory (your puzzle input) is corrupted. All of the instructions have been jumbled up!\n",
    "\n",
    "It seems like the goal of the program is just to multiply some numbers. It does that with instructions like mul(X,Y), where X and Y are each 1-3 digit numbers. For instance, mul(44,46) multiplies 44 by 46 to get a result of 2024. Similarly, mul(123,4) would multiply 123 by 4.\n",
    "\n",
    "However, because the program's memory has been corrupted, there are also many invalid characters that should be ignored, even if they look like part of a mul instruction. Sequences like `mul(4*, mul(6,9!, ?(12,34), or mul ( 2 , 4 ),` do nothing.\n",
    "\n",
    "For example, consider the following section of corrupted memory: `xmul(2,4)%&mul[3,7]!@^do_not_mul(5,5)+mul(32,64]then(mul(11,8)mul(8,5))`\n",
    "\n",
    "Only the four highlighted sections are real mul instructions. Adding up the result of each instruction produces 161 `(2*4 + 5*5 + 11*8 + 8*5)`.\n",
    "\n",
    "Scan the corrupted memory for uncorrupted mul instructions. What do you get if you add up all of the results of the multiplications?\n"
   ]
  },
  {
   "cell_type": "code",
   "execution_count": 71,
   "id": "bf7c95fc-3027-4e53-84d0-c5ced60fbdaa",
   "metadata": {},
   "outputs": [
    {
     "name": "stdout",
     "output_type": "stream",
     "text": [
      "Running main function ...\n",
      "Sum of multiplications: 170778545\n"
     ]
    }
   ],
   "source": [
    "# @author: kaenkai\n",
    "\n",
    "import re\n",
    "\n",
    "\n",
    "def findNumbers(corrMem: str) -> int:\n",
    "    \"\"\"Function analyzing corrupted memory\n",
    "    \n",
    "    Args:\n",
    "        corrMem (str): corrupted memory\n",
    "    Returns:\n",
    "        ms (int): sum of multiplications \n",
    "    \"\"\"\n",
    "    ms = 0\n",
    "    for i in re.findall(r'mul\\([0-9]*,[0-9]*\\)', corrMem):\n",
    "        a, b = [int(n) for n in i[4:-1].split(',')]\n",
    "        ms += a*b\n",
    "    return ms\n",
    "\n",
    "\n",
    "def main(inputFile: str) -> int:\n",
    "    \"\"\"Day 3 (part 1) solution.\n",
    "    \n",
    "    Args:\n",
    "        inputFile (str): input file name\n",
    "    \"\"\"\n",
    "    print('Running main function ...')\n",
    "    memorySum = 0\n",
    "    with open(inputFile, 'r') as fin:\n",
    "        memorySum = findNumbers(fin.read())\n",
    "    print(f'Sum of multiplications: {memorySum}')\n",
    "    # print(findNumbers('xmul(2,4)%&mul[3,7]!@^do_not_mul(5,5)+mul(32,64]then(mul(11,8)mul(8,5))'))\n",
    "    \n",
    "\n",
    "\n",
    "if __name__ == '__main__':\n",
    "    main('input_day3.txt')\n"
   ]
  },
  {
   "cell_type": "markdown",
   "id": "b7d74b0b-ff5a-479e-bca2-77bca557a215",
   "metadata": {},
   "source": [
    "--- Part Two ---\n",
    "\n",
    "As you scan through the corrupted memory, you notice that some of the conditional statements are also still intact. If you handle some of the uncorrupted conditional statements in the program, you might be able to get an even more accurate result.\n",
    "\n",
    "There are two new instructions you'll need to handle:\n",
    "\n",
    "The do() instruction enables future mul instructions.\n",
    "The don't() instruction disables future mul instructions.\n",
    "Only the most recent do() or don't() instruction applies. At the beginning of the program, mul instructions are enabled.\n",
    "\n",
    "For example: `xmul(2,4)&mul[3,7]!^don't()_mul(5,5)+mul(32,64](mul(11,8)undo()?mul(8,5))`\n",
    "\n",
    "This corrupted memory is similar to the example from before, but this time the mul(5,5) and mul(11,8) instructions are disabled because there is a don't() instruction before them. The other mul instructions function normally, including the one at the end that gets re-enabled by a do() instruction.\n",
    "\n",
    "This time, the sum of the results is `48 (2*4 + 8*5)`.\n",
    "\n",
    "Handle the new instructions; what do you get if you add up all of the results of just the enabled multiplications?"
   ]
  },
  {
   "cell_type": "code",
   "execution_count": 83,
   "id": "d7d913ba-c906-41e0-bfdf-28ab4851bc2a",
   "metadata": {},
   "outputs": [
    {
     "name": "stdout",
     "output_type": "stream",
     "text": [
      "Running main function ...\n",
      "Sum of multiplications: 82868252\n"
     ]
    }
   ],
   "source": [
    "# @author: kaenkai\n",
    "\n",
    "import re\n",
    "\n",
    "\n",
    "def findNumbers(corrMem: str) -> int:\n",
    "    \"\"\"Function analyzing corrupted memory\n",
    "    \n",
    "    Args:\n",
    "        corrMem (str): corrupted memory\n",
    "    Returns:\n",
    "        ms (int): sum of multiplications \n",
    "    \"\"\"\n",
    "    if \"don't()\" not in corrMem:\n",
    "        ms = 0\n",
    "        for i in re.findall(r'mul\\([0-9]*,[0-9]*\\)', corrMem):\n",
    "            a, b = [int(n) for n in i[4:-1].split(',')]\n",
    "            ms += a*b\n",
    "        return ms\n",
    "    memSplit = corrMem.split(\"don't()\")\n",
    "    ms = 0\n",
    "    for i in re.findall(r'mul\\([0-9]*,[0-9]*\\)', memSplit[0]):\n",
    "        a, b = [int(n) for n in i[4:-1].split(',')]\n",
    "        ms += a*b \n",
    "    for mem in memSplit[1:]:\n",
    "        if \"do()\" in mem:\n",
    "            activeMem = re.findall(r'mul\\([0-9]*,[0-9]*\\)', mem.split(\"do()\", 1)[1])\n",
    "            for i in activeMem:\n",
    "                a, b = [int(n) for n in i[4:-1].split(',')]\n",
    "                ms += a*b\n",
    "    return ms\n",
    "\n",
    "\n",
    "def main(inputFile: str) -> int:\n",
    "    \"\"\"Day 3 (part 1) solution.\n",
    "    \n",
    "    Args:\n",
    "        inputFile (str): input file name\n",
    "    \"\"\"\n",
    "    print('Running main function ...')\n",
    "    memorySum = 0\n",
    "    with open(inputFile, 'r') as fin:\n",
    "        memorySum = findNumbers(fin.read())\n",
    "    print(f'Sum of multiplications: {memorySum}')\n",
    "    # print(findNumbers(\"xmul(2,4)&mul[3,7]!^don't()_mul(5,5)+mul(32,64](mul(11,8)undo()?mul(8,5))\"))\n",
    "\n",
    "\n",
    "if __name__ == '__main__':\n",
    "    main('input_day3.txt')\n"
   ]
  }
 ],
 "metadata": {
  "kernelspec": {
   "display_name": "Python 3 (ipykernel)",
   "language": "python",
   "name": "python3"
  },
  "language_info": {
   "codemirror_mode": {
    "name": "ipython",
    "version": 3
   },
   "file_extension": ".py",
   "mimetype": "text/x-python",
   "name": "python",
   "nbconvert_exporter": "python",
   "pygments_lexer": "ipython3",
   "version": "3.12.0"
  }
 },
 "nbformat": 4,
 "nbformat_minor": 5
}
