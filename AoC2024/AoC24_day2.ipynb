{
 "cells": [
  {
   "cell_type": "markdown",
   "id": "9264fcbd-2e9d-44ea-b856-f98dc6040226",
   "metadata": {},
   "source": [
    "--- Day 2: Red-Nosed Reports ---\n",
    "\n",
    "Fortunately, the first location The Historians want to search isn't a long walk from the Chief Historian's office.\n",
    "\n",
    "While **the Red-Nosed Reindeer nuclear fusion/fission plant** appears to contain no sign of the Chief Historian, the engineers there run up to you as soon as they see you. Apparently, they still talk about the time Rudolph was saved through molecular synthesis from a single electron.\n",
    "\n",
    "They're quick to add that - since you're already here - they'd really appreciate your help analyzing some unusual data from the Red-Nosed reactor. You turn to check if The Historians are waiting for you, but they seem to have already divided into groups that are currently searching every corner of the facility. You offer to help with the unusual data.\n",
    "\n",
    "The unusual data (your puzzle input) consists of many reports, one report per line. Each report is a list of numbers called levels that are separated by spaces. For example:\n",
    "```\n",
    "7 6 4 2 1\n",
    "1 2 7 8 9\n",
    "9 7 6 2 1\n",
    "1 3 2 4 5\n",
    "8 6 4 4 1\n",
    "1 3 6 7 9\n",
    "```\n",
    "\n",
    "This example data contains six reports each containing five levels.\n",
    "\n",
    "The engineers are trying to figure out which reports are safe. The Red-Nosed reactor safety systems can only tolerate levels that are either gradually increasing or gradually decreasing. So, a report only counts as safe if both of the following are true:\n",
    "\n",
    "* The levels are either all increasing or all decreasing.\n",
    "* Any two adjacent levels differ by at least one and at most three.\n",
    "\n",
    "In the example above, the reports can be found safe or unsafe by checking those rules:\n",
    "\n",
    "* 7 6 4 2 1: Safe because the levels are all decreasing by 1 or 2.\n",
    "* 1 2 7 8 9: Unsafe because 2 7 is an increase of 5.\n",
    "* 9 7 6 2 1: Unsafe because 6 2 is a decrease of 4.\n",
    "* 1 3 2 4 5: Unsafe because 1 3 is increasing but 3 2 is decreasing.\n",
    "* 8 6 4 4 1: Unsafe because 4 4 is neither an increase or a decrease.\n",
    "* 1 3 6 7 9: Safe because the levels are all increasing by 1, 2, or 3.\n",
    "\n",
    "So, in this example, 2 reports are safe.\n",
    "\n",
    "Analyze the unusual data from the engineers. How many reports are safe?"
   ]
  },
  {
   "cell_type": "code",
   "execution_count": null,
   "id": "26647c1e-d669-4d61-8df7-4598f64e5193",
   "metadata": {},
   "outputs": [],
   "source": [
    "# @author: kaenkai\n",
    "\n"
   ]
  }
 ],
 "metadata": {
  "kernelspec": {
   "display_name": "Python 3 (ipykernel)",
   "language": "python",
   "name": "python3"
  },
  "language_info": {
   "codemirror_mode": {
    "name": "ipython",
    "version": 3
   },
   "file_extension": ".py",
   "mimetype": "text/x-python",
   "name": "python",
   "nbconvert_exporter": "python",
   "pygments_lexer": "ipython3",
   "version": "3.12.7"
  }
 },
 "nbformat": 4,
 "nbformat_minor": 5
}
